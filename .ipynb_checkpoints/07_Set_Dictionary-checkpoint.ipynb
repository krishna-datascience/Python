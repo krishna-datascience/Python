{
 "cells": [
  {
   "cell_type": "markdown",
   "metadata": {},
   "source": [
    "### Set (Mutable)\n",
    "\n",
    "* Denoted by { } and items are separated using a ,\n",
    "* No indexing, no order\n",
    "* No duplicates ie. only unique items\n",
    "* Only immutable objects allowed\n",
    "* a = set() -> Empty Set\n",
    "* Methods"
   ]
  },
  {
   "cell_type": "code",
   "execution_count": 1,
   "metadata": {},
   "outputs": [
    {
     "name": "stdout",
     "output_type": "stream",
     "text": [
      "set() <class 'set'> 0\n"
     ]
    }
   ],
   "source": [
    "s = set()\n",
    "print(s,type(s),len(s))"
   ]
  },
  {
   "cell_type": "code",
   "execution_count": 4,
   "metadata": {},
   "outputs": [
    {
     "name": "stdout",
     "output_type": "stream",
     "text": [
      "{40, 10, 50, 20, 30} <class 'set'>\n"
     ]
    }
   ],
   "source": [
    "s = {10,20,30,40,50}\n",
    "print(s,type(s))"
   ]
  },
  {
   "cell_type": "code",
   "execution_count": null,
   "metadata": {},
   "outputs": [],
   "source": [
    "# Set are unordered as they dont have any indexing\n",
    "# Lists are ordered\n",
    "a = 'PYTHON'\n",
    "print(a,type(a))\n",
    "b = list(a)\n",
    "print(b,type(b))\n",
    "c = set(a)\n",
    "print(c,type(c))"
   ]
  },
  {
   "cell_type": "code",
   "execution_count": null,
   "metadata": {},
   "outputs": [],
   "source": [
    "a = 'HELLO'\n",
    "print(a,type(a))\n",
    "b = list(a)\n",
    "print(b,type(b))\n",
    "c = set(a)\n",
    "print(c,type(c))"
   ]
  },
  {
   "cell_type": "code",
   "execution_count": null,
   "metadata": {},
   "outputs": [],
   "source": [
    "a = [1,2,3,4,4,1,2,1,2,3,1,2,3,1,2,1,2,1]\n",
    "print(a,type(a))"
   ]
  },
  {
   "cell_type": "code",
   "execution_count": null,
   "metadata": {},
   "outputs": [],
   "source": [
    "s = {1,2,3,4,4,1,2,1,2,3,1,2,3,1,2,1,2,1}\n",
    "print(s,type(s))"
   ]
  },
  {
   "cell_type": "code",
   "execution_count": null,
   "metadata": {},
   "outputs": [],
   "source": [
    "s = {1,1.45,'HELLO',(10,20,30)}\n",
    "print(s)\n",
    "# Below Statement will give an Error as set only allows\n",
    "# Immutable objects and list is mutable\n",
    "#s = {1,1.45,'HELLO',(10,20,30),[12,3]}\n",
    "#print(s)"
   ]
  },
  {
   "cell_type": "markdown",
   "metadata": {},
   "source": [
    "## Properties of Set"
   ]
  },
  {
   "cell_type": "code",
   "execution_count": null,
   "metadata": {},
   "outputs": [],
   "source": [
    "s1 = {1,2,3,4,5}\n",
    "s2 = {4,5,6,7}\n",
    "\n",
    "# Union\n",
    "print(s1.union(s2))\n",
    "print(s1 | s2)\n",
    "\n",
    "# Intersection\n",
    "print(s1.intersection(s2))\n",
    "print(s1&s2)\n",
    "\n",
    "# Difference\n",
    "print(s1.difference(s2))\n",
    "print(s1 - s2)\n",
    "print(s2.difference(s1))\n",
    "print(s2 - s1)\n",
    "\n",
    "# Symmetric Difference\n",
    "print(s1.symmetric_difference(s2))\n",
    "print(s1^s2)"
   ]
  },
  {
   "cell_type": "code",
   "execution_count": null,
   "metadata": {},
   "outputs": [],
   "source": [
    "s = {1,2,3,4,5,6}\n",
    "s1 = {1,2,3}\n",
    "s2 = {8,9}\n",
    "print(s1.issubset(s))\n",
    "print(s.issuperset(s1))\n",
    "print(s1.isdisjoint(s))\n",
    "print(s2.isdisjoint(s))"
   ]
  },
  {
   "cell_type": "code",
   "execution_count": null,
   "metadata": {},
   "outputs": [],
   "source": [
    "a = 'PYTHON'\n",
    "b = 'HELLO'\n",
    "\n",
    "print(set(a).intersection(set(b)))"
   ]
  },
  {
   "cell_type": "code",
   "execution_count": null,
   "metadata": {},
   "outputs": [],
   "source": [
    "a = 'THIS IS AN EXAMPLE'\n",
    "b = 'THIS IS AN ANT'\n",
    "\n",
    "print(set(a.split()).symmetric_difference(set(b.split())))"
   ]
  },
  {
   "cell_type": "markdown",
   "metadata": {},
   "source": [
    "### Set methods"
   ]
  },
  {
   "cell_type": "code",
   "execution_count": null,
   "metadata": {},
   "outputs": [],
   "source": [
    "dir(set)"
   ]
  },
  {
   "cell_type": "code",
   "execution_count": null,
   "metadata": {},
   "outputs": [],
   "source": [
    "s = set()\n",
    "print(s,id(s))\n",
    "s.add(10)\n",
    "print(s)\n",
    "s.add(100)\n",
    "print(s)\n",
    "s.add('hello')\n",
    "print(s)\n",
    "s.add(50)\n",
    "print(s)\n",
    "# Remove will give an error is element does not exist in set\n",
    "s.remove(100)\n",
    "print(s)\n",
    "# Discard will not give an error when element does not exist in set\n",
    "s.discard(50)\n",
    "print(s)\n",
    "b = s.pop()\n",
    "print(b)\n",
    "print(s,id(s))\n",
    "s.clear()\n",
    "print(s)"
   ]
  },
  {
   "cell_type": "code",
   "execution_count": null,
   "metadata": {},
   "outputs": [],
   "source": [
    "help(set.pop)\n",
    "help(set.discard)\n",
    "help(set.remove)"
   ]
  },
  {
   "cell_type": "markdown",
   "metadata": {},
   "source": [
    "### Frozenset( Immutable Set)"
   ]
  },
  {
   "cell_type": "code",
   "execution_count": null,
   "metadata": {},
   "outputs": [],
   "source": [
    "dir(frozenset)"
   ]
  },
  {
   "cell_type": "code",
   "execution_count": null,
   "metadata": {},
   "outputs": [],
   "source": [
    "s = frozenset({1,2,3})\n",
    "print(s,type(s))"
   ]
  },
  {
   "cell_type": "markdown",
   "metadata": {},
   "source": [
    "### Dictionary ( Mutable )\n",
    "\n",
    "* Denoted by {key:value, ..} and items are separated using a ,\n",
    "* No indexing\n",
    "* No order\n",
    "* d = { } -> Empty Dictionary\n",
    "* Example -> d = {'a':10,'b':20,20:'c'}\n",
    "* Items can be accessed using keys as index. Ex: d['a']->10\n",
    "* keys:\n",
    "    * Immutable objects\n",
    "    * No duplicates"
   ]
  },
  {
   "cell_type": "code",
   "execution_count": null,
   "metadata": {},
   "outputs": [],
   "source": [
    "d = {}\n",
    "print(d,type(d),len(d))"
   ]
  },
  {
   "cell_type": "code",
   "execution_count": null,
   "metadata": {},
   "outputs": [],
   "source": [
    "d = {'a':10,'b':20,20:'c'}\n",
    "print(d)\n",
    "print(d['a'])\n",
    "print(d[20])"
   ]
  },
  {
   "cell_type": "code",
   "execution_count": null,
   "metadata": {},
   "outputs": [],
   "source": [
    "d = {}\n",
    "print(d)\n",
    "d['a'] = 100\n",
    "print(d)\n",
    "d['b'] = 200\n",
    "print(d)\n",
    "d['a'] += 50\n",
    "print(d)\n",
    "del d['b']\n",
    "print(d)"
   ]
  },
  {
   "cell_type": "code",
   "execution_count": null,
   "metadata": {},
   "outputs": [],
   "source": [
    "d = {'a':10,'b':20,'c':30,'a':50}\n",
    "print(d)"
   ]
  },
  {
   "cell_type": "markdown",
   "metadata": {},
   "source": [
    "## Dictionary methods\n",
    "\n",
    "* keys\n",
    "* values\n",
    "* items"
   ]
  },
  {
   "cell_type": "code",
   "execution_count": null,
   "metadata": {},
   "outputs": [],
   "source": [
    "d = {'PYTHON':200,'JAVA':250,'PHP':150}\n",
    "print(d)\n",
    "print(d.keys())\n",
    "print(d.values())\n",
    "print(d.items())"
   ]
  },
  {
   "cell_type": "code",
   "execution_count": null,
   "metadata": {},
   "outputs": [],
   "source": [
    "d = {'PYTHON':200,'JAVA':250,'PHP':150}\n",
    "print(d)\n",
    "print(list(d.keys()))\n",
    "print(list(d.values()))\n",
    "print(list(d.items()))"
   ]
  },
  {
   "cell_type": "markdown",
   "metadata": {},
   "source": [
    "### Forming a dictionary using two list without Zip function"
   ]
  },
  {
   "cell_type": "code",
   "execution_count": null,
   "metadata": {},
   "outputs": [],
   "source": [
    "a = ['PYTHON', 'JAVA', 'PHP']\n",
    "b = [200, 250, 150]\n",
    "c = []\n",
    "n = min(len(a),len(b))\n",
    "for i in range(n):\n",
    "    c.append((a[i],b[i]))\n",
    "print(c)\n",
    "d = dict(c)\n",
    "print(d)"
   ]
  },
  {
   "cell_type": "markdown",
   "metadata": {},
   "source": [
    "### Forming a dictionary using two list using Zip function"
   ]
  },
  {
   "cell_type": "code",
   "execution_count": null,
   "metadata": {},
   "outputs": [],
   "source": [
    "\n",
    "\n",
    "a = ['PYTHON', 'JAVA', 'PHP']\n",
    "b = [200, 250, 150]\n",
    "c = list(zip(a,b))\n",
    "print(c)\n",
    "d = dict(c)\n",
    "print(d)\n",
    "\n",
    "e = dict(zip(b,a))\n",
    "print(e)"
   ]
  },
  {
   "cell_type": "markdown",
   "metadata": {},
   "source": [
    "## Question\n",
    "\n",
    "Count the number of occurance of each character in a given string"
   ]
  },
  {
   "cell_type": "code",
   "execution_count": null,
   "metadata": {},
   "outputs": [],
   "source": [
    "a = 'ababababa'\n",
    "d = {}\n",
    "\n",
    "for i in a:\n",
    "    #print(d,i)\n",
    "    if i not in d:\n",
    "        d[i] = 1\n",
    "    else:\n",
    "        d[i] += 1\n",
    "print(d)"
   ]
  },
  {
   "cell_type": "code",
   "execution_count": null,
   "metadata": {},
   "outputs": [],
   "source": [
    "# ANother Way\n",
    "\n",
    "a = 'ababababa'\n",
    "d = {}\n",
    "\n",
    "for i in a:\n",
    "    if i not in d:\n",
    "        d[i] = a.count(i)\n",
    "print(d)"
   ]
  },
  {
   "cell_type": "markdown",
   "metadata": {},
   "source": [
    "## Iterating over a dictionary"
   ]
  },
  {
   "cell_type": "code",
   "execution_count": null,
   "metadata": {},
   "outputs": [],
   "source": [
    "d = {'PYTHON': 200, 'JAVA': 250, 'PHP': 150}\n",
    "\n",
    "for i in d:\n",
    "    print(i)\n",
    "print()\n",
    "\n",
    "for i in d.keys():\n",
    "    print(i)\n",
    "print()\n",
    "\n",
    "for i in d.values():\n",
    "    print(i)\n",
    "print()\n",
    "\n",
    "for i in d.items():\n",
    "    print(i)\n",
    "print()\n",
    "\n",
    "for k,v in d.items():\n",
    "    print(k,'\\t',v)\n",
    "print()"
   ]
  },
  {
   "cell_type": "markdown",
   "metadata": {},
   "source": [
    "### Question\n",
    "\n",
    "Given a dictionary of files as keys and their owners as values, form a new dictionary where the keys are the names of the owners and the values is a list of all the files the owner has access to."
   ]
  },
  {
   "cell_type": "code",
   "execution_count": null,
   "metadata": {},
   "outputs": [],
   "source": [
    "files = {\n",
    "        'test.txt': 'Rishabh',\n",
    "        'hello.py':'Raj',\n",
    "        'hello.java' : 'Raj'\n",
    "}\n",
    "\n",
    "owners = {} # {'Rishabh':['test.txt'],'Raj':['hello.py','hello.java']}\n",
    "\n",
    "\n",
    "\n",
    "# Solution\n",
    "\n",
    "for file,owner in files.items():\n",
    "    if owner not in owners:\n",
    "        owners[owner] = [file]\n",
    "    else:\n",
    "        owners[owner].append(file)\n",
    "print(owners)"
   ]
  },
  {
   "cell_type": "markdown",
   "metadata": {},
   "source": [
    "### Dictionary Comprehension"
   ]
  },
  {
   "cell_type": "code",
   "execution_count": null,
   "metadata": {},
   "outputs": [],
   "source": [
    "n = 5\n",
    "d = {}\n",
    "for i in range(1,n+1):\n",
    "    d[i] = i**2\n",
    "print(d)"
   ]
  },
  {
   "cell_type": "code",
   "execution_count": null,
   "metadata": {},
   "outputs": [],
   "source": [
    "# Using Dictionary Comprehension\n",
    "n = 5\n",
    "d = {i:i**2 for i in range(1,n+1)}\n",
    "print(d)"
   ]
  },
  {
   "cell_type": "code",
   "execution_count": null,
   "metadata": {},
   "outputs": [],
   "source": [
    "a = 'THIS IS AN EXAMPLE'\n",
    "d = {}\n",
    "for i in a.split():\n",
    "    d[i[0]] = i\n",
    "print(d)"
   ]
  },
  {
   "cell_type": "code",
   "execution_count": null,
   "metadata": {},
   "outputs": [],
   "source": [
    "# Using Dictionary Comprehension\n",
    "a = 'THIS IS AN EXAMPLE'\n",
    "d = {i[0]:i for i in a.split()}\n",
    "print(d)"
   ]
  },
  {
   "cell_type": "code",
   "execution_count": null,
   "metadata": {},
   "outputs": [],
   "source": [
    "DIRECTORIES = {\n",
    "    \"HTML\": [\".html5\", \".html\", \".htm\", \".xhtml\"],\n",
    "    \"PLAINTEXT\": [\".txt\", \".in\", \".out\"],\n",
    "    \"PDF\": [\".pdf\"],\n",
    "    \"PYTHON\": [\".py\"]\n",
    "}\n",
    "\n",
    "d = {}\n",
    "\n",
    "for k,v in DIRECTORIES.items():\n",
    "    for i in v:\n",
    "        d[i] = k\n",
    "print(d)"
   ]
  },
  {
   "cell_type": "code",
   "execution_count": null,
   "metadata": {},
   "outputs": [],
   "source": [
    "DIRECTORIES = {\n",
    "    \"HTML\": [\".html5\", \".html\", \".htm\", \".xhtml\"],\n",
    "    \"PLAINTEXT\": [\".txt\", \".in\", \".out\"],\n",
    "    \"PDF\": [\".pdf\"],\n",
    "    \"PYTHON\": [\".py\"]\n",
    "}\n",
    "\n",
    "FILE_FORMATS = {file_format: directory\n",
    "                for directory, file_formats in DIRECTORIES.items()\n",
    "                for file_format in file_formats}\n",
    "\n",
    "print(FILE_FORMATS)"
   ]
  },
  {
   "cell_type": "code",
   "execution_count": null,
   "metadata": {},
   "outputs": [],
   "source": []
  }
 ],
 "metadata": {
  "kernelspec": {
   "display_name": "Python 3",
   "language": "python",
   "name": "python3"
  },
  "language_info": {
   "codemirror_mode": {
    "name": "ipython",
    "version": 3
   },
   "file_extension": ".py",
   "mimetype": "text/x-python",
   "name": "python",
   "nbconvert_exporter": "python",
   "pygments_lexer": "ipython3",
   "version": "3.7.3"
  }
 },
 "nbformat": 4,
 "nbformat_minor": 2
}
