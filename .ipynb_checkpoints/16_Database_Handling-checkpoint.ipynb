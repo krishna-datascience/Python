{
 "cells": [
  {
   "cell_type": "markdown",
   "metadata": {},
   "source": [
    "## Sqlite Module"
   ]
  },
  {
   "cell_type": "code",
   "execution_count": 1,
   "metadata": {},
   "outputs": [
    {
     "name": "stdout",
     "output_type": "stream",
     "text": [
      "(2, 'A Whole New World', 'Daniel Huang', 2005, 1111)\n",
      "(4, 'Good Story', 'Johhny W.', 2015, 12345)\n",
      "(6, 'Piglet ', 'Sabrina', 2016, 806)\n",
      "(7, 'great book', 'Alice', 2003, 716)\n",
      "(8, 'great ', 'Alice', 2003, 716)\n",
      "(10, 'Wings of Fire', 'APJ Abdul Kalam', 2009, 1234567890)\n"
     ]
    }
   ],
   "source": [
    "import sqlite3\n",
    "from sqlite3 import Error\n",
    "\n",
    "def create_connection(db_file):\n",
    "    \"\"\" create a database connection to the SQLite database specified by the db_file\n",
    "    :param db_file: database file\n",
    "    :return: Connection object or None\n",
    "    \"\"\"\n",
    "    try:\n",
    "        conn = sqlite3.connect(db_file)\n",
    "        return conn\n",
    "    except Error as e:\n",
    "        print(e)\n",
    "    return None\n",
    "\n",
    "\n",
    "def select_all_tasks(conn):\n",
    "    \"\"\"\n",
    "    Query all rows in the tasks table\n",
    "    :param conn: the Connection object\n",
    "    :return:\n",
    "    \"\"\"\n",
    "    cur = conn.cursor()\n",
    "    cur.execute(\"select * from book\")\n",
    "    rows = cur.fetchall()\n",
    "\n",
    "    for row in rows:\n",
    "        print(row)# in row:\n",
    "        \n",
    "\n",
    "\n",
    "if __name__ == '__main__':\n",
    "    database = \"./data/books.db\"\n",
    "    # create a database connection\n",
    "    conn = create_connection(database)\n",
    "    with conn:\n",
    "        select_all_tasks(conn)"
   ]
  },
  {
   "cell_type": "code",
   "execution_count": 3,
   "metadata": {},
   "outputs": [
    {
     "name": "stdout",
     "output_type": "stream",
     "text": [
      "('Good Story', 'Johhny W.')\n",
      "('Piglet ', 'Sabrina')\n"
     ]
    }
   ],
   "source": [
    "import sqlite3\n",
    "from sqlite3 import Error\n",
    "\n",
    "def create_connection(db_file):\n",
    "    \"\"\" create a database connection to the SQLite database specified by the db_file\n",
    "    :param db_file: database file\n",
    "    :return: Connection object or None\n",
    "    \"\"\"\n",
    "    try:\n",
    "        conn = sqlite3.connect(db_file)\n",
    "        return conn\n",
    "    except Error as e:\n",
    "        print(e)\n",
    "    return None\n",
    "\n",
    "\n",
    "def select_all_tasks(conn):\n",
    "    \"\"\"\n",
    "    Query all rows in the tasks table\n",
    "    :param conn: the Connection object\n",
    "    :return:\n",
    "    \"\"\"\n",
    "    cur = conn.cursor()\n",
    "    cur.execute(\"select title,author from book where year>2010\")\n",
    "    rows = cur.fetchall()\n",
    "\n",
    "    for row in rows:\n",
    "        print(row)\n",
    "        \n",
    "if __name__ == '__main__':\n",
    "    database = \"./data/books.db\"\n",
    "    # create a database connection\n",
    "    conn = create_connection(database)\n",
    "    with conn:\n",
    "        select_all_tasks(conn)"
   ]
  },
  {
   "cell_type": "code",
   "execution_count": 5,
   "metadata": {},
   "outputs": [
    {
     "name": "stdout",
     "output_type": "stream",
     "text": [
      "(15, 'Test', 'Tester', 2019, 112233)\n"
     ]
    }
   ],
   "source": [
    "import sqlite3\n",
    "from sqlite3 import Error\n",
    "\n",
    "def create_connection(db_file):\n",
    "    \"\"\" create a database connection to the SQLite database specified by the db_file\n",
    "    :param db_file: database file\n",
    "    :return: Connection object or None\n",
    "    \"\"\"\n",
    "    try:\n",
    "        conn = sqlite3.connect(db_file)\n",
    "        return conn\n",
    "    except Error as e:\n",
    "        print(e)\n",
    "    return None\n",
    "\n",
    "\n",
    "def select_all_tasks(conn):\n",
    "    \"\"\"\n",
    "    Query all rows in the tasks table\n",
    "    :param conn: the Connection object\n",
    "    :return:\n",
    "    \"\"\"\n",
    "    cur = conn.cursor()\n",
    "    sql = \"\"\"INSERT INTO BOOK(id,title,author,year,isbn)\n",
    "    VALUES (15,'Test','Tester',2019,112233)\"\"\"\n",
    "    try:\n",
    "        cur.execute(sql)\n",
    "        # Commit Changes to Database\n",
    "        conn.commit()\n",
    "    except:\n",
    "        ## Rollback in case there is any error\n",
    "        conn.rollback()\n",
    "        \n",
    "    cur.execute('select * from book where year = 2019')\n",
    "    rows = cur.fetchall()\n",
    "\n",
    "    for row in rows:\n",
    "        print(row)\n",
    "        \n",
    "if __name__ == '__main__':\n",
    "    database = \"./data/books.db\"\n",
    "    # create a database connection\n",
    "    conn = create_connection(database)\n",
    "    with conn:\n",
    "        select_all_tasks(conn)"
   ]
  },
  {
   "cell_type": "markdown",
   "metadata": {},
   "source": [
    "## Mysql\n",
    "\n",
    "* Install a mysql client (Example : Xampp,wampp,etc)\n",
    "* Start your client and then run the below blocks"
   ]
  },
  {
   "cell_type": "code",
   "execution_count": null,
   "metadata": {},
   "outputs": [],
   "source": [
    "import pymysql\n",
    "db = pymysql.connect(\"localhost\",\"root\",\"\")\n",
    "# prepare a cursor object using cursor() method\n",
    "cursor = db.cursor()\n",
    "# execute SQL query using execute() method.\n",
    "cursor.execute(\"SELECT VERSION()\")\n",
    "# Fetch a single row using fetchone() method.\n",
    "data = cursor.fetchone()\n",
    "print (\"Database version : {}\".format(data))\n",
    "# disconnect from server\n",
    "db.close()"
   ]
  },
  {
   "cell_type": "code",
   "execution_count": null,
   "metadata": {},
   "outputs": [],
   "source": [
    "import pymysql\n",
    "db = pymysql.connect(\"localhost\",\"root\",\"\")\n",
    "\n",
    "cursor = db.cursor()\n",
    "\n",
    "cursor.execute(\"create database testdb\")\n",
    "db.close()"
   ]
  },
  {
   "cell_type": "code",
   "execution_count": null,
   "metadata": {},
   "outputs": [],
   "source": [
    "import pymysql\n",
    "db = pymysql.connect(\"localhost\",\"root\",\"\",'testdb')\n",
    "\n",
    "cursor = db.cursor()\n",
    "sql = \"\"\"CREATE TABLE EMPLOYEE (\n",
    "FIRST_NAME CHAR(20) NOT NULL,\n",
    "LAST_NAME CHAR(20),\n",
    "AGE INT,\n",
    "GENDER CHAR(6),\n",
    "INCOME FLOAT )\"\"\"\n",
    "cursor.execute(sql)\n",
    "db.close()"
   ]
  },
  {
   "cell_type": "code",
   "execution_count": null,
   "metadata": {},
   "outputs": [],
   "source": [
    "import pymysql\n",
    "db = pymysql.connect(\"localhost\",\"root\",\"\",'testdb')\n",
    "\n",
    "cursor = db.cursor()\n",
    "sql = \"\"\"INSERT INTO EMPLOYEE(FIRST_NAME,\n",
    "LAST_NAME, AGE, GENDER, INCOME)\n",
    "VALUES ('Rishabh', 'Raj', 28, 'M', 3000)\"\"\"\n",
    "\n",
    "\n",
    "try:\n",
    "    cursor.execute(sql)\n",
    "    db.commit()\n",
    "except:\n",
    "## Rollback in case there is any error\n",
    "    db.rollback()\n",
    "db.close()\n"
   ]
  },
  {
   "cell_type": "code",
   "execution_count": null,
   "metadata": {},
   "outputs": [],
   "source": [
    "import pymysql\n",
    "db = pymysql.connect(\"localhost\",\"root\",\"\",'testdb')\n",
    "\n",
    "cursor = db.cursor()\n",
    "sql = \"\"\"select * from employee\"\"\"\n",
    "cursor.execute(sql)\n",
    "a = cursor.fetchone()\n",
    "print(a)"
   ]
  },
  {
   "cell_type": "code",
   "execution_count": null,
   "metadata": {},
   "outputs": [],
   "source": [
    "import pymysql\n",
    "db = pymysql.connect(\"localhost\",\"root\",\"\",'testdb')\n",
    "\n",
    "cursor = db.cursor()\n",
    "sql = \"\"\"INSERT INTO EMPLOYEE(FIRST_NAME,\n",
    "LAST_NAME, AGE, GENDER, INCOME)\n",
    "VALUES ('Abhijeet', 'Patra', 29, 'M', 3000.56)\"\"\"\n",
    "\n",
    "\n",
    "try:\n",
    "    cursor.execute(sql)\n",
    "    db.commit()\n",
    "except:\n",
    "## Rollback in case there is any error\n",
    "    db.rollback()\n",
    "db.close()\n"
   ]
  }
 ],
 "metadata": {
  "kernelspec": {
   "display_name": "Python 3",
   "language": "python",
   "name": "python3"
  },
  "language_info": {
   "codemirror_mode": {
    "name": "ipython",
    "version": 3
   },
   "file_extension": ".py",
   "mimetype": "text/x-python",
   "name": "python",
   "nbconvert_exporter": "python",
   "pygments_lexer": "ipython3",
   "version": "3.7.3"
  }
 },
 "nbformat": 4,
 "nbformat_minor": 2
}
