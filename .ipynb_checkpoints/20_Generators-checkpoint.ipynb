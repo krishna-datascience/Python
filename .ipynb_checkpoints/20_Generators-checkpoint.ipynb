{
 "cells": [
  {
   "cell_type": "markdown",
   "metadata": {},
   "source": [
    "Generators are a simple way of creating iterators. They use the yield keyword to achieve that. If the body of a def contains __yield__, the function automatically becomes a generator function.\n",
    "\n",
    "Generators are useful because:\n",
    "* It is easy to implement\n",
    "* Memory Efficient\n",
    "* Represent Infinite Stream"
   ]
  },
  {
   "cell_type": "code",
   "execution_count": 8,
   "metadata": {},
   "outputs": [
    {
     "name": "stdout",
     "output_type": "stream",
     "text": [
      "This is printed first\n",
      "1\n",
      "This is printed second\n",
      "2\n",
      "This is printed at last\n",
      "3\n",
      "This is printed first\n",
      "1\n",
      "This is printed second\n",
      "2\n",
      "This is printed at last\n",
      "3\n"
     ]
    }
   ],
   "source": [
    "# A simple generator function\n",
    "def my_gen():\n",
    "    n = 1\n",
    "    print('This is printed first')\n",
    "    # Generator function contains yield statements\n",
    "    yield n\n",
    "\n",
    "    n += 1\n",
    "    print('This is printed second')\n",
    "    yield n\n",
    "\n",
    "    n += 1\n",
    "    print('This is printed at last')\n",
    "    yield n\n",
    "    \n",
    "a = my_gen()\n",
    "print(a.__next__())\n",
    "print(next(a))\n",
    "print(next(a))\n",
    "#Now we will get an error\n",
    "#print(next(a))\n",
    "\n",
    "for i in my_gen():\n",
    "    print(i)"
   ]
  },
  {
   "cell_type": "code",
   "execution_count": 9,
   "metadata": {},
   "outputs": [
    {
     "name": "stdout",
     "output_type": "stream",
     "text": [
      "0\n",
      "1\n",
      "1\n",
      "2\n",
      "3\n"
     ]
    }
   ],
   "source": [
    "# A simple generator for Fibonacci Numbers \n",
    "def fib(limit): \n",
    "      \n",
    "    # Initialize first two Fibonacci Numbers  \n",
    "    a, b = 0, 1\n",
    "  \n",
    "    # One by one yield next Fibonacci Number \n",
    "    while a < limit: \n",
    "        yield a \n",
    "        a, b = b, a + b \n",
    "# Create a generator object\n",
    "x = fib(5)\n",
    "\n",
    "for i in x:\n",
    "    print(i)"
   ]
  },
  {
   "cell_type": "code",
   "execution_count": 1,
   "metadata": {},
   "outputs": [
    {
     "name": "stdout",
     "output_type": "stream",
     "text": [
      "1\n",
      "2\n",
      "4\n",
      "8\n",
      "16\n",
      "32\n"
     ]
    }
   ],
   "source": [
    "class PowTwo:\n",
    "    def __init__(self, max1 = 0):\n",
    "        self.max = max1\n",
    "\n",
    "    def __iter__(self):\n",
    "        self.n = 0\n",
    "        return self\n",
    "\n",
    "    def __next__(self):\n",
    "        if self.n > self.max:\n",
    "            raise StopIteration\n",
    "\n",
    "        result = 2 ** self.n\n",
    "        self.n += 1\n",
    "        return result\n",
    "    \n",
    "a = PowTwo(5)\n",
    "for i in a:\n",
    "    print(i)"
   ]
  },
  {
   "cell_type": "code",
   "execution_count": 3,
   "metadata": {},
   "outputs": [
    {
     "name": "stdout",
     "output_type": "stream",
     "text": [
      "1\n",
      "2\n",
      "4\n",
      "8\n",
      "16\n",
      "32\n"
     ]
    }
   ],
   "source": [
    "#Genrator function to print power of two\n",
    "def PowTwoGen(max = 0):\n",
    "        n = 0\n",
    "        while n <= max:\n",
    "            yield 2 ** n\n",
    "            n += 1\n",
    "a = PowTwoGen(5)\n",
    "for i in a:\n",
    "    print(i)"
   ]
  },
  {
   "cell_type": "code",
   "execution_count": 18,
   "metadata": {},
   "outputs": [],
   "source": [
    "# Generator comprehension / Expression"
   ]
  },
  {
   "cell_type": "code",
   "execution_count": 20,
   "metadata": {},
   "outputs": [
    {
     "name": "stdout",
     "output_type": "stream",
     "text": [
      "1\n",
      "9\n",
      "36\n",
      "100\n"
     ]
    }
   ],
   "source": [
    "# Intialize the list\n",
    "my_list = [1, 3, 6, 10]\n",
    "\n",
    "a = (x**2 for x in my_list)\n",
    "# Output: 1\n",
    "print(next(a))\n",
    "\n",
    "# Output: 9\n",
    "print(next(a))\n",
    "\n",
    "# Output: 36\n",
    "print(next(a))\n",
    "\n",
    "# Output: 100\n",
    "print(next(a))\n",
    "\n",
    "# Output: StopIteration\n",
    "#next(a)"
   ]
  },
  {
   "cell_type": "code",
   "execution_count": 1,
   "metadata": {},
   "outputs": [
    {
     "name": "stdout",
     "output_type": "stream",
     "text": [
      "2\n",
      "3\n",
      "5\n",
      "7\n"
     ]
    }
   ],
   "source": [
    "#Prime number generator\n",
    "def prime_generator(bound):\n",
    "    for n in range(2, bound):   # n starts from 2 to bound\n",
    "        for x in range(2, n):   # check if there is a number x (1<x<n) that can divide n\n",
    "            if n % x == 0:  # as long as we can find any such x, then n is not prime\n",
    "                break\n",
    "        else:   # if no such x is found after exhausting all 1<x<n\n",
    "            yield n     # generate this prime\n",
    "            \n",
    "a = prime_generator(10)\n",
    "for i in a:\n",
    "    print(i)"
   ]
  },
  {
   "cell_type": "code",
   "execution_count": null,
   "metadata": {},
   "outputs": [],
   "source": []
  }
 ],
 "metadata": {
  "kernelspec": {
   "display_name": "Python 3",
   "language": "python",
   "name": "python3"
  },
  "language_info": {
   "codemirror_mode": {
    "name": "ipython",
    "version": 3
   },
   "file_extension": ".py",
   "mimetype": "text/x-python",
   "name": "python",
   "nbconvert_exporter": "python",
   "pygments_lexer": "ipython3",
   "version": "3.7.3"
  }
 },
 "nbformat": 4,
 "nbformat_minor": 2
}
