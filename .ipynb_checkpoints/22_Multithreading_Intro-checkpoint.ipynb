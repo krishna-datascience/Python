{
 "cells": [
  {
   "cell_type": "code",
   "execution_count": 1,
   "metadata": {},
   "outputs": [
    {
     "name": "stdout",
     "output_type": "stream",
     "text": [
      "Print squares\n",
      "Square 4\n",
      "Square 9\n",
      "Square 16\n",
      "Square 25\n",
      "Print cubes\n",
      "Cube 8\n",
      "Cube 27\n",
      "Cube 64\n",
      "Cube 125\n",
      "Without thread program took 1.61594820022583\n",
      "\n",
      "Print squares\n",
      "Print cubes\n",
      "Square 4\n",
      "Cube 8\n",
      "Square 9\n",
      "Cube 27\n",
      "Square 16\n",
      "Cube 64\n",
      "Square 25\n",
      "Cube 125\n",
      "Program took 0.8296527862548828\n"
     ]
    }
   ],
   "source": [
    "import time\n",
    "import threading\n",
    "\n",
    "\n",
    "def PrintSquare(numbers):\n",
    "  print(\"Print squares\")\n",
    "  for n in numbers:\n",
    "    time.sleep(0.2)\n",
    "    print(\"Square\", n*n)\n",
    "\n",
    "\n",
    "def PrintCube(numbers):\n",
    "  print(\"Print cubes\")\n",
    "  for n in numbers:\n",
    "    time.sleep(0.2)\n",
    "    print(\"Cube\", n*n*n)\n",
    "\n",
    "\n",
    "def with_thread():\n",
    "    arr = [2,3,4,5]\n",
    "    t = time.time()\n",
    "    t1=threading.Thread(target=PrintSquare, args=(arr,))\n",
    "    t2=threading.Thread(target=PrintCube, args=(arr,))\n",
    "    # starting thread 1\n",
    "    t1.start()\n",
    "    # starting thread 2\n",
    "    t2.start()\n",
    " \n",
    "    # wait until thread 1 is completely executed\n",
    "    t1.join()\n",
    "    # wait until thread 2 is completely executed\n",
    "    t2.join()\n",
    "    print(\"Program took\", time.time()-t)\n",
    "\n",
    "def without_thread():\n",
    "    arr = [2,3,4,5]\n",
    "    t = time.time()\n",
    "    PrintSquare(arr)\n",
    "    PrintCube(arr)\n",
    "    print(\"Without thread program took\", time.time()-t)\n",
    "\n",
    "if __name__ == '__main__':\n",
    "    without_thread()\n",
    "    print()\n",
    "    with_thread()"
   ]
  },
  {
   "cell_type": "code",
   "execution_count": null,
   "metadata": {},
   "outputs": [],
   "source": []
  }
 ],
 "metadata": {
  "kernelspec": {
   "display_name": "Python 3",
   "language": "python",
   "name": "python3"
  },
  "language_info": {
   "codemirror_mode": {
    "name": "ipython",
    "version": 3
   },
   "file_extension": ".py",
   "mimetype": "text/x-python",
   "name": "python",
   "nbconvert_exporter": "python",
   "pygments_lexer": "ipython3",
   "version": "3.7.3"
  }
 },
 "nbformat": 4,
 "nbformat_minor": 2
}
