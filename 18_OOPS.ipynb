{
 "cells": [
  {
   "cell_type": "markdown",
   "metadata": {},
   "source": [
    "## Object-Oriented Programming with Python"
   ]
  },
  {
   "cell_type": "markdown",
   "metadata": {},
   "source": [
    "In Python Everything is an object"
   ]
  },
  {
   "cell_type": "markdown",
   "metadata": {},
   "source": [
    "For this lesson we will construct our knowledge of OOP in Python by building on the following topics:\n",
    "\n",
    "* Objects\n",
    "* Using the *class* keyword\n",
    "* Creating class attributes\n",
    "* Creating methods in a class\n",
    "* Learning about Inheritance\n",
    "* Learning about Special Methods for classes\n",
    "\n",
    "Lets start the lesson by remembering about the Basic Python Objects.\n",
    "For example:"
   ]
  },
  {
   "cell_type": "code",
   "execution_count": 1,
   "metadata": {},
   "outputs": [
    {
     "name": "stdout",
     "output_type": "stream",
     "text": [
      "1\n",
      "<class 'list'>\n"
     ]
    }
   ],
   "source": [
    "List1=[1,2,3]\n",
    "print(List1.count(2))\n",
    "print(type(List1))"
   ]
  },
  {
   "cell_type": "markdown",
   "metadata": {},
   "source": [
    "As we can see above that List1 is of type \"<class 'list>\". Basically it is an object of class 'list' and the method count accessed via \".\" (dot notation) performs the count operation in the list List1"
   ]
  },
  {
   "cell_type": "markdown",
   "metadata": {},
   "source": [
    "What we will basically be doing in this lecture is exploring how we could create an Object type like a list. We've already learned about how to create functions. So lets explore Objects in general:\n",
    "\n",
    "## Object\n",
    "In Python, *everything is an object*. Remember from previous lectures we can use type() to check the type of object something is:"
   ]
  },
  {
   "cell_type": "code",
   "execution_count": 1,
   "metadata": {},
   "outputs": [
    {
     "name": "stdout",
     "output_type": "stream",
     "text": [
      "<class 'int'>\n",
      "<class 'str'>\n",
      "<class 'list'>\n",
      "<class 'tuple'>\n",
      "<class 'set'>\n"
     ]
    }
   ],
   "source": [
    "print(type(1))\n",
    "print(type(\"1\"))\n",
    "print(type([1]))\n",
    "print(type((1,2)))\n",
    "print(type({1}))"
   ]
  },
  {
   "cell_type": "code",
   "execution_count": 3,
   "metadata": {},
   "outputs": [
    {
     "name": "stdout",
     "output_type": "stream",
     "text": [
      "<class 'module'>\n"
     ]
    }
   ],
   "source": [
    "import math\n",
    "print(type(math))"
   ]
  },
  {
   "cell_type": "code",
   "execution_count": 4,
   "metadata": {},
   "outputs": [
    {
     "name": "stdout",
     "output_type": "stream",
     "text": [
      "<class 'function'>\n"
     ]
    }
   ],
   "source": [
    "def func():\n",
    "    pass\n",
    "print(type(func))"
   ]
  },
  {
   "cell_type": "markdown",
   "metadata": {},
   "source": [
    "So we know all these things are objects, so how can we create our own Object types? That is where the *class* keyword comes in.\n",
    "\n",
    "## Class\n",
    "The user defined objects are created using the class keyword. The class is a blueprint that defines a nature of a future object. From classes we can construct instances. An instance is a specific object created from a particular class.\n",
    "\n",
    "For example, above we created the object 'l' which was an instance of a list object.\n",
    "Let see how we can use **class**:"
   ]
  },
  {
   "cell_type": "markdown",
   "metadata": {},
   "source": [
    "## Creating user defined Class"
   ]
  },
  {
   "cell_type": "code",
   "execution_count": 5,
   "metadata": {},
   "outputs": [
    {
     "name": "stdout",
     "output_type": "stream",
     "text": [
      "<__main__.Human object at 0x0000007F67519320>\n",
      "<class '__main__.Human'>\n",
      "<__main__.Human object at 0x0000007F67519400>\n"
     ]
    }
   ],
   "source": [
    "# Creating our own Class\n",
    "\n",
    "class Human:\n",
    "    \"\"\"Optional Documentation\"\"\"\n",
    "    pass\n",
    "\n",
    "# Creating an object\n",
    "\n",
    "a = Human()\n",
    "print(a)\n",
    "print(type(a))\n",
    "b = Human()\n",
    "print(b)"
   ]
  },
  {
   "cell_type": "markdown",
   "metadata": {},
   "source": [
    "By convention we give classes a name that starts with a capital letter.Note how x is now the reference to our new instance of a Sample class.\n",
    "In other words, we **instantiate** the Sample class.\n",
    "\n",
    "Inside of the class we currently just have pass.But we can define class attributes and methods.\n",
    "An **attribute** is a characteristic of an object.\n",
    "A **method** is an operation we can perform with the object.\n",
    "For example we can create a class called Dog. An attribute of a dog may be its breed or its name, while a method of a dog may be defined by a .bark() method which returns a sound.\n",
    "Let's get a better understanding of attributes through an example.\n",
    "\n",
    "## Attributes\n",
    "\n",
    "The syntax for creating an attribute is:\n",
    "\n",
    "    self.attribute = something\n"
   ]
  },
  {
   "cell_type": "code",
   "execution_count": 2,
   "metadata": {},
   "outputs": [
    {
     "name": "stdout",
     "output_type": "stream",
     "text": [
      "Mammal\n",
      "Mammal\n",
      "Mammal\n"
     ]
    }
   ],
   "source": [
    "## Class Attributes\n",
    "# Creating our own Class\n",
    "\n",
    "class Human:\n",
    "    # Class Attribute\n",
    "    species = 'Mammal'\n",
    "\n",
    "# Creating an object\n",
    "\n",
    "a = Human()\n",
    "b = Human()\n",
    "print(a.species)\n",
    "print(b.species)\n",
    "print(Human.species)\n",
    "\n",
    "# Object attributes\n",
    "a.name= 'Rishabh'\n",
    "a.age = 28\n",
    "b.name = 'Raj'\n",
    "b.age = 27"
   ]
  },
  {
   "cell_type": "markdown",
   "metadata": {},
   "source": [
    "## Methods\n",
    "\n",
    "Methods are functions defined inside the body of a class. They are used to perform operations with the attributes of our objects. Methods are essential in encapsulation concept of the OOP paradigm. This is essential in dividing responsibilities in programming, especially in large applications.\n",
    "\n",
    "You can basically think of methods as functions acting on an Object that take the Object itself into account through its *self* argument.\n",
    "Lets go through an example of creating a Circle class:"
   ]
  },
  {
   "cell_type": "code",
   "execution_count": 7,
   "metadata": {},
   "outputs": [
    {
     "name": "stdout",
     "output_type": "stream",
     "text": [
      "Hello\n"
     ]
    }
   ],
   "source": [
    "class Human:\n",
    "    # Class Attribute\n",
    "    species = 'Mammal'\n",
    "    \n",
    "    # General Method\n",
    "    def say_hello(self):\n",
    "        print(\"Hello\")\n",
    "\n",
    "# Creating an object\n",
    "a = Human()\n",
    "a.say_hello()"
   ]
  },
  {
   "cell_type": "markdown",
   "metadata": {},
   "source": [
    "## Special Method/ Magic Method -> Constructor\n",
    "\n",
    "\n",
    "There is a special method called: __init__()\n",
    "This method is used to initialize the attributes of an object. For example:"
   ]
  },
  {
   "cell_type": "code",
   "execution_count": 8,
   "metadata": {},
   "outputs": [
    {
     "name": "stdout",
     "output_type": "stream",
     "text": [
      "Human Created\n",
      "Human Created\n"
     ]
    }
   ],
   "source": [
    "class Human:\n",
    "    # Class Attribute\n",
    "    species = 'Mammal'\n",
    "    \n",
    "    #Special/Magic Method\n",
    "    # Constructor -> gets called on its own whenever an object is created\n",
    "    def __init__(self):\n",
    "        print(\"Human Created\")\n",
    "    \n",
    "    # General Method\n",
    "    def say_hello(self):\n",
    "        print(\"Hello\")\n",
    "\n",
    "# Creating an object\n",
    "a = Human()\n",
    "b = Human()"
   ]
  },
  {
   "cell_type": "code",
   "execution_count": 9,
   "metadata": {},
   "outputs": [
    {
     "name": "stdout",
     "output_type": "stream",
     "text": [
      "Human Created\n",
      "Human Created\n",
      "Rishabh\n",
      "Raj\n",
      "Rishabh is saying hello\n",
      "Raj is saying hello\n"
     ]
    }
   ],
   "source": [
    "# Instatiating an object with paramenters\n",
    "class Human:\n",
    "    # Class Attribute\n",
    "    species = 'Mammal'\n",
    "    \n",
    "    #Special/Magic Method\n",
    "    # Constructor -> gets called on its own whenever an object is created\n",
    "    def __init__(self,name,age):\n",
    "        print(\"Human Created\")\n",
    "        # Object attribute\n",
    "        self.name = name\n",
    "        self.age = age\n",
    "    \n",
    "    # General Method\n",
    "    def say_hello(self):\n",
    "        print(\"{} is saying hello\".format(self.name))\n",
    "\n",
    "# Creating an object\n",
    "a = Human(\"Rishabh\",28)\n",
    "b = Human('Raj',27)\n",
    "print(a.name)\n",
    "print(b.name)\n",
    "a.say_hello()\n",
    "b.say_hello()"
   ]
  },
  {
   "cell_type": "markdown",
   "metadata": {},
   "source": [
    "### Creating a circle class "
   ]
  },
  {
   "cell_type": "code",
   "execution_count": 10,
   "metadata": {},
   "outputs": [
    {
     "name": "stdout",
     "output_type": "stream",
     "text": [
      "1\n",
      "3.14\n",
      "6.28\n",
      "\n",
      "10\n",
      "314.0\n",
      "62.800000000000004\n"
     ]
    }
   ],
   "source": [
    "class Circle:\n",
    "    # Class Arrtibute\n",
    "    pi = 3.14\n",
    "    \n",
    "    # Constructor\n",
    "    def __init__(self,radius=1):\n",
    "        # Object Attribute\n",
    "        self.radius = radius\n",
    "    \n",
    "    # General Method\n",
    "    def area(self):\n",
    "        return Circle.pi *self.radius **2\n",
    "    \n",
    "    #General Method\n",
    "    def circumference(self):\n",
    "        return 2*Circle.pi*self.radius\n",
    "    \n",
    "\n",
    "c1 = Circle()\n",
    "print(c1.radius)\n",
    "print(c1.area())\n",
    "print(c1.circumference())\n",
    "print()\n",
    "c2 = Circle(10)\n",
    "print(c2.radius)\n",
    "print(c2.area())\n",
    "print(c2.circumference())"
   ]
  },
  {
   "cell_type": "markdown",
   "metadata": {},
   "source": [
    "# Polymorphism"
   ]
  },
  {
   "cell_type": "code",
   "execution_count": 3,
   "metadata": {},
   "outputs": [
    {
     "name": "stdout",
     "output_type": "stream",
     "text": [
      "15\n",
      "12\n"
     ]
    }
   ],
   "source": [
    "def add(a,b=10):\n",
    "    print(a+b)\n",
    "\n",
    "add(5)\n",
    "add(5,7)\n"
   ]
  },
  {
   "cell_type": "code",
   "execution_count": 4,
   "metadata": {},
   "outputs": [
    {
     "name": "stdout",
     "output_type": "stream",
     "text": [
      "Parrots can fly\n",
      "Penguins cannot fly\n",
      "Parrots cannot swim\n",
      "Penguins can swim\n"
     ]
    }
   ],
   "source": [
    "class Parrot:\n",
    "    \n",
    "    def swim(self):\n",
    "        print(\"Parrots cannot swim\")\n",
    "        \n",
    "    def fly(self):\n",
    "        print(\"Parrots can fly\")\n",
    "        \n",
    "class Penguin:\n",
    "    \n",
    "    def swim(self):\n",
    "        print(\"Penguins can swim\")\n",
    "        \n",
    "    def fly(self):\n",
    "        print(\"Penguins cannot fly\")\n",
    "        \n",
    "par = Parrot()\n",
    "pen = Penguin()\n",
    "\n",
    "# Driver Function\n",
    "def flying_test(obj):\n",
    "    obj.fly()\n",
    "    \n",
    "flying_test(par)\n",
    "flying_test(pen)\n",
    "\n",
    "for i in (par,pen):\n",
    "    i.swim()"
   ]
  },
  {
   "cell_type": "markdown",
   "metadata": {},
   "source": [
    "## Abstraction (Data Hiding)"
   ]
  },
  {
   "cell_type": "code",
   "execution_count": 5,
   "metadata": {},
   "outputs": [
    {
     "name": "stdout",
     "output_type": "stream",
     "text": [
      "Selling Price : 1000\n",
      "1000\n",
      "Selling Price : 1500\n"
     ]
    }
   ],
   "source": [
    "class Computer:\n",
    "    \n",
    "    def __init__(self):\n",
    "        self.maxprice = 1000 # Public Attribute\n",
    "        \n",
    "    def sell(self):\n",
    "        print(\"Selling Price :\",self.maxprice)\n",
    "        \n",
    "c = Computer()\n",
    "c.sell()\n",
    "print(c.maxprice)\n",
    "c.maxprice = 1500\n",
    "c.sell()"
   ]
  },
  {
   "cell_type": "code",
   "execution_count": 6,
   "metadata": {},
   "outputs": [
    {
     "name": "stdout",
     "output_type": "stream",
     "text": [
      "Selling Price : 1000\n",
      "Selling Price : 1000\n",
      "1000\n",
      "Selling Price : 1500\n"
     ]
    }
   ],
   "source": [
    "class Computer:\n",
    "    \n",
    "    def __init__(self):\n",
    "        self.__maxprice = 1000 # Private Attribute\n",
    "        \n",
    "    def sell(self):\n",
    "        print(\"Selling Price :\",self.__maxprice)\n",
    "        \n",
    "        \n",
    "    def getmaxprice(self):\n",
    "        return self.__maxprice\n",
    "    \n",
    "    def setmaxprice(self,price):\n",
    "        self.__maxprice = price\n",
    "        \n",
    "c = Computer()\n",
    "c.sell()\n",
    "#print(c.__maxprice)\n",
    "c.__maxprice = 1500 # We are just initializing a public attribute __maxprice\n",
    "c.sell()\n",
    "print(c.getmaxprice())\n",
    "c.setmaxprice(1500)\n",
    "c.sell()"
   ]
  },
  {
   "cell_type": "markdown",
   "metadata": {},
   "source": [
    "## Inheritance\n",
    "\n",
    "Inheritance is a way to form new classes using classes that have already been defined.The newly formed classes are called derived classes, the classes that we derive from are called base classes. \n",
    "Important benefits of inheritance are code reuse and reduction of complexity of a program. The derived classes (descendants) override or extend the functionality of base classes (ancestors).\n",
    "\n",
    "In this example, we have two classes: Animal and Dog. The Animal is the base class, the Dog is the derived class.\n",
    "The derived class inherits the functionality of the base class.\n",
    "* It is shown by the eat() method.\n",
    "The derived class modifies existing behavior of the base class.\n",
    "* shown by the whoAmI() method.\n",
    "\n",
    "Finally, the derived class extends the functionality of the base class,by defining a new bark() method."
   ]
  },
  {
   "cell_type": "code",
   "execution_count": 2,
   "metadata": {},
   "outputs": [
    {
     "name": "stdout",
     "output_type": "stream",
     "text": [
      "Animal created\n",
      "Dog created\n",
      "Dog\n",
      "Eating\n",
      "Woof!\n"
     ]
    }
   ],
   "source": [
    "class Animal:\n",
    "    def __init__(self):\n",
    "        print (\"Animal created\")\n",
    "\n",
    "    def whoAmI(self):\n",
    "        print (\"Animal\")\n",
    "\n",
    "    def eat(self):\n",
    "        print (\"Eating\")\n",
    "\n",
    "class Dog(Animal):\n",
    "    def __init__(self):\n",
    "        Animal.__init__(self)\n",
    "        print (\"Dog created\")\n",
    "\n",
    "    def whoAmI(self):\n",
    "        print (\"Dog\")\n",
    "\n",
    "    def bark(self):\n",
    "        print (\"Woof!\")\n",
    "d = Dog()\n",
    "d.whoAmI()\n",
    "d.eat()\n",
    "d.bark()\n"
   ]
  },
  {
   "cell_type": "code",
   "execution_count": 7,
   "metadata": {},
   "outputs": [
    {
     "name": "stdout",
     "output_type": "stream",
     "text": [
      "Method Resolution order of C [<class '__main__.C'>, <class '__main__.B'>, <class '__main__.A'>, <class 'object'>]\n",
      "Method Resolution order of B [<class '__main__.B'>, <class '__main__.A'>, <class 'object'>]\n"
     ]
    }
   ],
   "source": [
    "# MultiLevel Inheritance\n",
    "class A:\n",
    "    pass\n",
    "\n",
    "class B(A):\n",
    "    pass\n",
    "\n",
    "class C(B):\n",
    "    pass\n",
    "\n",
    "# Method Resolution Order\n",
    "print(\"Method Resolution order of C\",C.mro())\n",
    "print(\"Method Resolution order of B\",B.mro())"
   ]
  },
  {
   "cell_type": "code",
   "execution_count": 8,
   "metadata": {},
   "outputs": [
    {
     "name": "stdout",
     "output_type": "stream",
     "text": [
      "Method Resolution order of D [<class '__main__.D'>, <class '__main__.B'>, <class '__main__.A'>, <class '__main__.C'>, <class 'object'>]\n"
     ]
    }
   ],
   "source": [
    "# Multiple Inheritance\n",
    "\n",
    "class A:\n",
    "    pass\n",
    "\n",
    "class B(A):\n",
    "    pass\n",
    "\n",
    "class C:\n",
    "    pass\n",
    "\n",
    "class D(B,C):\n",
    "    pass\n",
    "\n",
    "print(\"Method Resolution order of D\",D.mro())"
   ]
  },
  {
   "cell_type": "markdown",
   "metadata": {},
   "source": [
    "## Special/Magic Methods\n",
    "\n",
    "Finally lets go over special methods. Classes in Python can implement certain operations with special method names. These methods are not actually called directly but by Python specific language syntax.\n",
    "\n",
    "For example Lets create a Book class:"
   ]
  },
  {
   "cell_type": "code",
   "execution_count": 9,
   "metadata": {},
   "outputs": [
    {
     "name": "stdout",
     "output_type": "stream",
     "text": [
      "Name : Five Point Someone\n",
      "Author Name : Chetan Bhagat\n",
      "257\n",
      "\n",
      "Name : Wing of Fire\n",
      "Author Name : Dr. APJ Abdul Kalam\n",
      "400\n"
     ]
    }
   ],
   "source": [
    "class Book:\n",
    "    \n",
    "    def __init__(self,name,author_name,pages,price):\n",
    "        self.name = name\n",
    "        self.author_name = author_name\n",
    "        self.pages = pages\n",
    "        self.price = price\n",
    "        \n",
    "    def __str__(self):\n",
    "        return \"Name : {}\\nAuthor Name : {}\".format(self.name,self.author_name)\n",
    "    \n",
    "    def __len__(self):\n",
    "        return self.pages\n",
    "    \n",
    "fps = Book('Five Point Someone','Chetan Bhagat',257,50)\n",
    "print(fps)\n",
    "print(len(fps))\n",
    "print()\n",
    "wof = Book('Wing of Fire','Dr. APJ Abdul Kalam',400,150)\n",
    "print(wof)\n",
    "print(len(wof))"
   ]
  },
  {
   "cell_type": "code",
   "execution_count": 10,
   "metadata": {},
   "outputs": [
    {
     "name": "stdout",
     "output_type": "stream",
     "text": [
      "[1, 2, 3]\n",
      "[4, 5, 6]\n",
      "3\n",
      "[5, 7, 9]\n",
      "[-3, -3, -3]\n",
      "[3, 3, 3]\n"
     ]
    }
   ],
   "source": [
    "class Vector:\n",
    "    \n",
    "    def __init__(self,data):\n",
    "        self.data = data\n",
    "        \n",
    "    # This is a special method to represent our object informally    \n",
    "    def __str__(self):\n",
    "        return str(self.data)\n",
    "    \n",
    "    def __len__(self):\n",
    "        return len(self.data)\n",
    "    \n",
    "    def __add__(self,other):\n",
    "        \n",
    "        val = [x+y for x,y in zip(self.data,other.data)]\n",
    "        return val\n",
    "    \n",
    "    def __sub__(self,other):\n",
    "        \n",
    "        val = [x-y for x,y in zip(self.data,other.data)]\n",
    "        return val\n",
    "    \n",
    "x = Vector([1,2,3])\n",
    "print(x)\n",
    "y = Vector([4,5,6])\n",
    "print(y)\n",
    "print(len(x))\n",
    "print(x+y)\n",
    "print(x-y)\n",
    "print(y-x)"
   ]
  },
  {
   "cell_type": "code",
   "execution_count": null,
   "metadata": {},
   "outputs": [],
   "source": []
  }
 ],
 "metadata": {
  "kernelspec": {
   "display_name": "Python 3",
   "language": "python",
   "name": "python3"
  },
  "language_info": {
   "codemirror_mode": {
    "name": "ipython",
    "version": 3
   },
   "file_extension": ".py",
   "mimetype": "text/x-python",
   "name": "python",
   "nbconvert_exporter": "python",
   "pygments_lexer": "ipython3",
   "version": "3.7.3"
  }
 },
 "nbformat": 4,
 "nbformat_minor": 2
}
